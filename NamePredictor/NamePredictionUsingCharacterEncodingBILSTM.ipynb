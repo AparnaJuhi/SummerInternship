{
  "nbformat": 4,
  "nbformat_minor": 0,
  "metadata": {
    "colab": {
      "name": "Untitled0.ipynb",
      "provenance": [],
      "collapsed_sections": []
    },
    "kernelspec": {
      "name": "python3",
      "display_name": "Python 3"
    },
    "language_info": {
      "name": "python"
    },
    "accelerator": "GPU"
  },
  "cells": [
    {
      "cell_type": "code",
      "metadata": {
        "colab": {
          "base_uri": "https://localhost:8080/"
        },
        "id": "VUoULXAmUw19",
        "outputId": "b3fabde3-0067-4d34-8d5e-d953c08fc402"
      },
      "source": [
        "from google.colab import drive\n",
        "drive.mount('/content/drive')"
      ],
      "execution_count": 6,
      "outputs": [
        {
          "output_type": "stream",
          "text": [
            "Mounted at /content/drive\n"
          ],
          "name": "stdout"
        }
      ]
    },
    {
      "cell_type": "code",
      "metadata": {
        "id": "G1fLTbTawzZD"
      },
      "source": [
        "import pandas as pd\n",
        "import numpy as np\n",
        "import os\n",
        "import glob\n",
        "frames=[]\n",
        "path=\"/content/drive/MyDrive/SummerInternship-Aparna/names/yob\"\n",
        "df = pd.DataFrame()\n",
        "for f in range(2018,2021):\n",
        "    # read the csv file\n",
        "    s=str(f)\n",
        "    s+=\".txt\"\n",
        "    df1 = pd.read_csv(path+s, sep=\",\", header=None)\n",
        "    frames.append(df1)\n",
        "df = pd.concat(frames)"
      ],
      "execution_count": 7,
      "outputs": []
    },
    {
      "cell_type": "code",
      "metadata": {
        "colab": {
          "base_uri": "https://localhost:8080/"
        },
        "id": "uEKWLN6IBJXa",
        "outputId": "d6dc8ec1-9216-4d56-92d1-7d286d15aadf"
      },
      "source": [
        "len(df)"
      ],
      "execution_count": 8,
      "outputs": [
        {
          "output_type": "execute_result",
          "data": {
            "text/plain": [
              "95479"
            ]
          },
          "metadata": {
            "tags": []
          },
          "execution_count": 8
        }
      ]
    },
    {
      "cell_type": "code",
      "metadata": {
        "colab": {
          "base_uri": "https://localhost:8080/",
          "height": 195
        },
        "id": "FYGAY6ocCsbj",
        "outputId": "58ea061d-1f2c-4bb9-c1c8-ed4e46ef9402"
      },
      "source": [
        "df.head()"
      ],
      "execution_count": 9,
      "outputs": [
        {
          "output_type": "execute_result",
          "data": {
            "text/html": [
              "<div>\n",
              "<style scoped>\n",
              "    .dataframe tbody tr th:only-of-type {\n",
              "        vertical-align: middle;\n",
              "    }\n",
              "\n",
              "    .dataframe tbody tr th {\n",
              "        vertical-align: top;\n",
              "    }\n",
              "\n",
              "    .dataframe thead th {\n",
              "        text-align: right;\n",
              "    }\n",
              "</style>\n",
              "<table border=\"1\" class=\"dataframe\">\n",
              "  <thead>\n",
              "    <tr style=\"text-align: right;\">\n",
              "      <th></th>\n",
              "      <th>0</th>\n",
              "      <th>1</th>\n",
              "      <th>2</th>\n",
              "    </tr>\n",
              "  </thead>\n",
              "  <tbody>\n",
              "    <tr>\n",
              "      <th>0</th>\n",
              "      <td>Emma</td>\n",
              "      <td>F</td>\n",
              "      <td>18770</td>\n",
              "    </tr>\n",
              "    <tr>\n",
              "      <th>1</th>\n",
              "      <td>Olivia</td>\n",
              "      <td>F</td>\n",
              "      <td>18011</td>\n",
              "    </tr>\n",
              "    <tr>\n",
              "      <th>2</th>\n",
              "      <td>Ava</td>\n",
              "      <td>F</td>\n",
              "      <td>14985</td>\n",
              "    </tr>\n",
              "    <tr>\n",
              "      <th>3</th>\n",
              "      <td>Isabella</td>\n",
              "      <td>F</td>\n",
              "      <td>14524</td>\n",
              "    </tr>\n",
              "    <tr>\n",
              "      <th>4</th>\n",
              "      <td>Sophia</td>\n",
              "      <td>F</td>\n",
              "      <td>13979</td>\n",
              "    </tr>\n",
              "  </tbody>\n",
              "</table>\n",
              "</div>"
            ],
            "text/plain": [
              "          0  1      2\n",
              "0      Emma  F  18770\n",
              "1    Olivia  F  18011\n",
              "2       Ava  F  14985\n",
              "3  Isabella  F  14524\n",
              "4    Sophia  F  13979"
            ]
          },
          "metadata": {
            "tags": []
          },
          "execution_count": 9
        }
      ]
    },
    {
      "cell_type": "code",
      "metadata": {
        "colab": {
          "base_uri": "https://localhost:8080/",
          "height": 195
        },
        "id": "_vYbBnO6Drq3",
        "outputId": "867e56e9-adfc-4e4f-ce39-b324fa5f1c46"
      },
      "source": [
        "df=df.drop(labels=None, axis=0, columns=[2])\n",
        "df.head()"
      ],
      "execution_count": 10,
      "outputs": [
        {
          "output_type": "execute_result",
          "data": {
            "text/html": [
              "<div>\n",
              "<style scoped>\n",
              "    .dataframe tbody tr th:only-of-type {\n",
              "        vertical-align: middle;\n",
              "    }\n",
              "\n",
              "    .dataframe tbody tr th {\n",
              "        vertical-align: top;\n",
              "    }\n",
              "\n",
              "    .dataframe thead th {\n",
              "        text-align: right;\n",
              "    }\n",
              "</style>\n",
              "<table border=\"1\" class=\"dataframe\">\n",
              "  <thead>\n",
              "    <tr style=\"text-align: right;\">\n",
              "      <th></th>\n",
              "      <th>0</th>\n",
              "      <th>1</th>\n",
              "    </tr>\n",
              "  </thead>\n",
              "  <tbody>\n",
              "    <tr>\n",
              "      <th>0</th>\n",
              "      <td>Emma</td>\n",
              "      <td>F</td>\n",
              "    </tr>\n",
              "    <tr>\n",
              "      <th>1</th>\n",
              "      <td>Olivia</td>\n",
              "      <td>F</td>\n",
              "    </tr>\n",
              "    <tr>\n",
              "      <th>2</th>\n",
              "      <td>Ava</td>\n",
              "      <td>F</td>\n",
              "    </tr>\n",
              "    <tr>\n",
              "      <th>3</th>\n",
              "      <td>Isabella</td>\n",
              "      <td>F</td>\n",
              "    </tr>\n",
              "    <tr>\n",
              "      <th>4</th>\n",
              "      <td>Sophia</td>\n",
              "      <td>F</td>\n",
              "    </tr>\n",
              "  </tbody>\n",
              "</table>\n",
              "</div>"
            ],
            "text/plain": [
              "          0  1\n",
              "0      Emma  F\n",
              "1    Olivia  F\n",
              "2       Ava  F\n",
              "3  Isabella  F\n",
              "4    Sophia  F"
            ]
          },
          "metadata": {
            "tags": []
          },
          "execution_count": 10
        }
      ]
    },
    {
      "cell_type": "code",
      "metadata": {
        "colab": {
          "base_uri": "https://localhost:8080/"
        },
        "id": "K3STGHHyESPI",
        "outputId": "cc5601cb-6a5a-4bfc-a068-e25fa6812953"
      },
      "source": [
        "#encoding  F as 0 and M as 1 \n",
        "gender = {'M': 1,'F': 0}\n",
        "df[1] = [gender[item] for item in df[1]]\n",
        "print(df.head())"
      ],
      "execution_count": 11,
      "outputs": [
        {
          "output_type": "stream",
          "text": [
            "          0  1\n",
            "0      Emma  0\n",
            "1    Olivia  0\n",
            "2       Ava  0\n",
            "3  Isabella  0\n",
            "4    Sophia  0\n"
          ],
          "name": "stdout"
        }
      ]
    },
    {
      "cell_type": "code",
      "metadata": {
        "colab": {
          "base_uri": "https://localhost:8080/",
          "height": 195
        },
        "id": "MwDS_6mrHW3Q",
        "outputId": "fd90e122-64ce-4312-8b18-ea1814344e0d"
      },
      "source": [
        "x= df.iloc[:,:1]\n",
        "x.head()"
      ],
      "execution_count": 13,
      "outputs": [
        {
          "output_type": "execute_result",
          "data": {
            "text/html": [
              "<div>\n",
              "<style scoped>\n",
              "    .dataframe tbody tr th:only-of-type {\n",
              "        vertical-align: middle;\n",
              "    }\n",
              "\n",
              "    .dataframe tbody tr th {\n",
              "        vertical-align: top;\n",
              "    }\n",
              "\n",
              "    .dataframe thead th {\n",
              "        text-align: right;\n",
              "    }\n",
              "</style>\n",
              "<table border=\"1\" class=\"dataframe\">\n",
              "  <thead>\n",
              "    <tr style=\"text-align: right;\">\n",
              "      <th></th>\n",
              "      <th>0</th>\n",
              "    </tr>\n",
              "  </thead>\n",
              "  <tbody>\n",
              "    <tr>\n",
              "      <th>0</th>\n",
              "      <td>Emma</td>\n",
              "    </tr>\n",
              "    <tr>\n",
              "      <th>1</th>\n",
              "      <td>Olivia</td>\n",
              "    </tr>\n",
              "    <tr>\n",
              "      <th>2</th>\n",
              "      <td>Ava</td>\n",
              "    </tr>\n",
              "    <tr>\n",
              "      <th>3</th>\n",
              "      <td>Isabella</td>\n",
              "    </tr>\n",
              "    <tr>\n",
              "      <th>4</th>\n",
              "      <td>Sophia</td>\n",
              "    </tr>\n",
              "  </tbody>\n",
              "</table>\n",
              "</div>"
            ],
            "text/plain": [
              "          0\n",
              "0      Emma\n",
              "1    Olivia\n",
              "2       Ava\n",
              "3  Isabella\n",
              "4    Sophia"
            ]
          },
          "metadata": {
            "tags": []
          },
          "execution_count": 13
        }
      ]
    },
    {
      "cell_type": "code",
      "metadata": {
        "id": "teNvslxMFUyh"
      },
      "source": [
        "vocab_f ='/content/drive/My Drive/MLProject_CS5439/glove.6B.50d.txt'"
      ],
      "execution_count": 15,
      "outputs": []
    },
    {
      "cell_type": "code",
      "metadata": {
        "id": "VbfsZ6iGFU7W"
      },
      "source": [
        "embeddings_index = {}\n",
        "with open(vocab_f,encoding='utf8') as f:\n",
        "    for line in f:\n",
        "        values = line.rstrip().rsplit(' ')\n",
        "        word = values[0]\n",
        "        coefs = np.asarray(values[1:], dtype='float32')\n",
        "        embeddings_index[word] = coefs"
      ],
      "execution_count": 16,
      "outputs": []
    },
    {
      "cell_type": "code",
      "metadata": {
        "colab": {
          "base_uri": "https://localhost:8080/"
        },
        "id": "XTZ0k5piGIDT",
        "outputId": "b2376850-818e-4459-f6e2-4fef7833b5d5"
      },
      "source": [
        "\n",
        "print(len(embeddings_index['happy']))"
      ],
      "execution_count": 17,
      "outputs": [
        {
          "output_type": "stream",
          "text": [
            "50\n"
          ],
          "name": "stdout"
        }
      ]
    },
    {
      "cell_type": "code",
      "metadata": {
        "id": "U7_jXtEtIhcH"
      },
      "source": [
        "x=x.values.tolist()"
      ],
      "execution_count": 18,
      "outputs": []
    },
    {
      "cell_type": "code",
      "metadata": {
        "id": "js_lN6opQ5QF"
      },
      "source": [
        "X=[]\n",
        "for i in x:\n",
        "  word=i[0]\n",
        "  X.append(word)"
      ],
      "execution_count": 19,
      "outputs": []
    },
    {
      "cell_type": "code",
      "metadata": {
        "colab": {
          "base_uri": "https://localhost:8080/"
        },
        "id": "8J9PVpH5I5uP",
        "outputId": "a597c2ce-1c36-46fe-d09c-73c2d27ced45"
      },
      "source": [
        "print(X[:7])"
      ],
      "execution_count": 20,
      "outputs": [
        {
          "output_type": "stream",
          "text": [
            "['Emma', 'Olivia', 'Ava', 'Isabella', 'Sophia', 'Charlotte', 'Mia']\n"
          ],
          "name": "stdout"
        }
      ]
    },
    {
      "cell_type": "code",
      "metadata": {
        "colab": {
          "base_uri": "https://localhost:8080/"
        },
        "id": "lDAvKb8WRQo5",
        "outputId": "4e662090-f0fc-4a88-9783-8528c93dc9d0"
      },
      "source": [
        "len(X)"
      ],
      "execution_count": 21,
      "outputs": [
        {
          "output_type": "execute_result",
          "data": {
            "text/plain": [
              "95479"
            ]
          },
          "metadata": {
            "tags": []
          },
          "execution_count": 21
        }
      ]
    },
    {
      "cell_type": "code",
      "metadata": {
        "colab": {
          "base_uri": "https://localhost:8080/"
        },
        "id": "KJPxXBoxGkgh",
        "outputId": "b5f59cc0-976f-4598-c418-97c4d7e97ac0"
      },
      "source": [
        "#Padding with '@ each word to length 30\n",
        "def padd(arr):\n",
        "    for i in range(20-len(arr)):\n",
        "        arr.append('@')\n",
        "    return arr[:20]\n",
        "for i in range(len(X)):\n",
        "  li=[]\n",
        "  one_name=X[i]\n",
        "  for alphabet in one_name:\n",
        "    li.append(alphabet)\n",
        "  X[i]=padd(li)\n",
        "\n",
        "print(X[0])\n",
        "print(X[2])"
      ],
      "execution_count": 22,
      "outputs": [
        {
          "output_type": "stream",
          "text": [
            "['E', 'm', 'm', 'a', '@', '@', '@', '@', '@', '@', '@', '@', '@', '@', '@', '@', '@', '@', '@', '@']\n",
            "['A', 'v', 'a', '@', '@', '@', '@', '@', '@', '@', '@', '@', '@', '@', '@', '@', '@', '@', '@', '@']\n"
          ],
          "name": "stdout"
        }
      ]
    },
    {
      "cell_type": "code",
      "metadata": {
        "colab": {
          "base_uri": "https://localhost:8080/"
        },
        "id": "mG4TWJmRP0Sb",
        "outputId": "573028cf-c795-40c5-f65f-e6a3159393fd"
      },
      "source": [
        "# Each  letter of each word has been embedded into glove vector of size 50.\n",
        "embedded_arr=[]\n",
        "for each_word in X:\n",
        "  embedded_arr.append([])\n",
        "  \n",
        "  for letter in each_word:\n",
        "    if letter=='@':\n",
        "        embedded_arr[-1].append([0]*50)       \n",
        "    elif letter.lower() in embeddings_index:\n",
        "        embedded_arr[-1].append(embeddings_index[letter.lower()])\n",
        "    else:\n",
        "      embedded_arr[-1].append([0]*50)\n",
        "       \n",
        "print(embedded_arr[0])"
      ],
      "execution_count": 23,
      "outputs": [
        {
          "output_type": "stream",
          "text": [
            "[array([ 0.73833 ,  0.65451 ,  1.0873  ,  0.86066 , -0.4834  , -0.9825  ,\n",
            "       -0.1328  , -0.54704 ,  0.35356 ,  0.24776 , -0.55684 ,  0.76911 ,\n",
            "       -0.22341 , -0.97246 ,  0.10125 , -1.0475  , -1.2904  , -0.65822 ,\n",
            "        0.48172 , -0.3128  , -0.048045, -0.21534 ,  1.1261  ,  1.1538  ,\n",
            "        0.14075 , -0.94391 , -0.31116 , -0.42186 , -0.099165, -0.78428 ,\n",
            "        2.7546  , -0.24284 , -0.17702 , -0.081995, -0.54023 , -0.62769 ,\n",
            "        0.014979, -0.35867 ,  0.38916 ,  0.25102 ,  2.0597  ,  0.37733 ,\n",
            "        0.028691,  0.14071 ,  0.1621  ,  0.10083 ,  0.27499 , -0.16797 ,\n",
            "        0.65622 ,  1.1014  ], dtype=float32), array([-0.47714 ,  1.7847  ,  1.3788  ,  1.0443  ,  0.50386 , -0.23525 ,\n",
            "        0.6409  , -1.3447  , -0.091542, -0.87196 , -0.094991, -0.58697 ,\n",
            "       -0.54982 , -1.0523  ,  0.42966 ,  0.10966 ,  0.5299  ,  0.9029  ,\n",
            "       -1.5233  , -0.51371 , -0.73551 , -0.2591  ,  0.78334 , -0.18729 ,\n",
            "        0.50978 ,  0.16163 ,  0.22219 , -0.072781, -0.64646 ,  0.28897 ,\n",
            "        2.5236  , -0.53972 , -0.012524,  0.87292 ,  0.031627, -0.67759 ,\n",
            "        0.83808 ,  0.24742 ,  0.10185 ,  0.11754 ,  0.51859 , -0.47399 ,\n",
            "        0.3741  ,  0.42624 , -0.645   , -0.13466 ,  0.5793  , -0.94238 ,\n",
            "       -0.29406 , -0.18219 ], dtype=float32), array([-0.47714 ,  1.7847  ,  1.3788  ,  1.0443  ,  0.50386 , -0.23525 ,\n",
            "        0.6409  , -1.3447  , -0.091542, -0.87196 , -0.094991, -0.58697 ,\n",
            "       -0.54982 , -1.0523  ,  0.42966 ,  0.10966 ,  0.5299  ,  0.9029  ,\n",
            "       -1.5233  , -0.51371 , -0.73551 , -0.2591  ,  0.78334 , -0.18729 ,\n",
            "        0.50978 ,  0.16163 ,  0.22219 , -0.072781, -0.64646 ,  0.28897 ,\n",
            "        2.5236  , -0.53972 , -0.012524,  0.87292 ,  0.031627, -0.67759 ,\n",
            "        0.83808 ,  0.24742 ,  0.10185 ,  0.11754 ,  0.51859 , -0.47399 ,\n",
            "        0.3741  ,  0.42624 , -0.645   , -0.13466 ,  0.5793  , -0.94238 ,\n",
            "       -0.29406 , -0.18219 ], dtype=float32), array([ 0.21705 ,  0.46515 , -0.46757 ,  0.10082 ,  1.0135  ,  0.74845 ,\n",
            "       -0.53104 , -0.26256 ,  0.16812 ,  0.13182 , -0.24909 , -0.44185 ,\n",
            "       -0.21739 ,  0.51004 ,  0.13448 , -0.43141 , -0.03123 ,  0.20674 ,\n",
            "       -0.78138 , -0.20148 , -0.097401,  0.16088 , -0.61836 , -0.18504 ,\n",
            "       -0.12461 , -2.2526  , -0.22321 ,  0.5043  ,  0.32257 ,  0.15313 ,\n",
            "        3.9636  , -0.71365 , -0.67012 ,  0.28388 ,  0.21738 ,  0.14433 ,\n",
            "        0.25926 ,  0.23434 ,  0.4274  , -0.44451 ,  0.13813 ,  0.36973 ,\n",
            "       -0.64289 ,  0.024142, -0.039315, -0.26037 ,  0.12017 , -0.043782,\n",
            "        0.41013 ,  0.1796  ], dtype=float32), [0, 0, 0, 0, 0, 0, 0, 0, 0, 0, 0, 0, 0, 0, 0, 0, 0, 0, 0, 0, 0, 0, 0, 0, 0, 0, 0, 0, 0, 0, 0, 0, 0, 0, 0, 0, 0, 0, 0, 0, 0, 0, 0, 0, 0, 0, 0, 0, 0, 0], [0, 0, 0, 0, 0, 0, 0, 0, 0, 0, 0, 0, 0, 0, 0, 0, 0, 0, 0, 0, 0, 0, 0, 0, 0, 0, 0, 0, 0, 0, 0, 0, 0, 0, 0, 0, 0, 0, 0, 0, 0, 0, 0, 0, 0, 0, 0, 0, 0, 0], [0, 0, 0, 0, 0, 0, 0, 0, 0, 0, 0, 0, 0, 0, 0, 0, 0, 0, 0, 0, 0, 0, 0, 0, 0, 0, 0, 0, 0, 0, 0, 0, 0, 0, 0, 0, 0, 0, 0, 0, 0, 0, 0, 0, 0, 0, 0, 0, 0, 0], [0, 0, 0, 0, 0, 0, 0, 0, 0, 0, 0, 0, 0, 0, 0, 0, 0, 0, 0, 0, 0, 0, 0, 0, 0, 0, 0, 0, 0, 0, 0, 0, 0, 0, 0, 0, 0, 0, 0, 0, 0, 0, 0, 0, 0, 0, 0, 0, 0, 0], [0, 0, 0, 0, 0, 0, 0, 0, 0, 0, 0, 0, 0, 0, 0, 0, 0, 0, 0, 0, 0, 0, 0, 0, 0, 0, 0, 0, 0, 0, 0, 0, 0, 0, 0, 0, 0, 0, 0, 0, 0, 0, 0, 0, 0, 0, 0, 0, 0, 0], [0, 0, 0, 0, 0, 0, 0, 0, 0, 0, 0, 0, 0, 0, 0, 0, 0, 0, 0, 0, 0, 0, 0, 0, 0, 0, 0, 0, 0, 0, 0, 0, 0, 0, 0, 0, 0, 0, 0, 0, 0, 0, 0, 0, 0, 0, 0, 0, 0, 0], [0, 0, 0, 0, 0, 0, 0, 0, 0, 0, 0, 0, 0, 0, 0, 0, 0, 0, 0, 0, 0, 0, 0, 0, 0, 0, 0, 0, 0, 0, 0, 0, 0, 0, 0, 0, 0, 0, 0, 0, 0, 0, 0, 0, 0, 0, 0, 0, 0, 0], [0, 0, 0, 0, 0, 0, 0, 0, 0, 0, 0, 0, 0, 0, 0, 0, 0, 0, 0, 0, 0, 0, 0, 0, 0, 0, 0, 0, 0, 0, 0, 0, 0, 0, 0, 0, 0, 0, 0, 0, 0, 0, 0, 0, 0, 0, 0, 0, 0, 0], [0, 0, 0, 0, 0, 0, 0, 0, 0, 0, 0, 0, 0, 0, 0, 0, 0, 0, 0, 0, 0, 0, 0, 0, 0, 0, 0, 0, 0, 0, 0, 0, 0, 0, 0, 0, 0, 0, 0, 0, 0, 0, 0, 0, 0, 0, 0, 0, 0, 0], [0, 0, 0, 0, 0, 0, 0, 0, 0, 0, 0, 0, 0, 0, 0, 0, 0, 0, 0, 0, 0, 0, 0, 0, 0, 0, 0, 0, 0, 0, 0, 0, 0, 0, 0, 0, 0, 0, 0, 0, 0, 0, 0, 0, 0, 0, 0, 0, 0, 0], [0, 0, 0, 0, 0, 0, 0, 0, 0, 0, 0, 0, 0, 0, 0, 0, 0, 0, 0, 0, 0, 0, 0, 0, 0, 0, 0, 0, 0, 0, 0, 0, 0, 0, 0, 0, 0, 0, 0, 0, 0, 0, 0, 0, 0, 0, 0, 0, 0, 0], [0, 0, 0, 0, 0, 0, 0, 0, 0, 0, 0, 0, 0, 0, 0, 0, 0, 0, 0, 0, 0, 0, 0, 0, 0, 0, 0, 0, 0, 0, 0, 0, 0, 0, 0, 0, 0, 0, 0, 0, 0, 0, 0, 0, 0, 0, 0, 0, 0, 0], [0, 0, 0, 0, 0, 0, 0, 0, 0, 0, 0, 0, 0, 0, 0, 0, 0, 0, 0, 0, 0, 0, 0, 0, 0, 0, 0, 0, 0, 0, 0, 0, 0, 0, 0, 0, 0, 0, 0, 0, 0, 0, 0, 0, 0, 0, 0, 0, 0, 0], [0, 0, 0, 0, 0, 0, 0, 0, 0, 0, 0, 0, 0, 0, 0, 0, 0, 0, 0, 0, 0, 0, 0, 0, 0, 0, 0, 0, 0, 0, 0, 0, 0, 0, 0, 0, 0, 0, 0, 0, 0, 0, 0, 0, 0, 0, 0, 0, 0, 0], [0, 0, 0, 0, 0, 0, 0, 0, 0, 0, 0, 0, 0, 0, 0, 0, 0, 0, 0, 0, 0, 0, 0, 0, 0, 0, 0, 0, 0, 0, 0, 0, 0, 0, 0, 0, 0, 0, 0, 0, 0, 0, 0, 0, 0, 0, 0, 0, 0, 0], [0, 0, 0, 0, 0, 0, 0, 0, 0, 0, 0, 0, 0, 0, 0, 0, 0, 0, 0, 0, 0, 0, 0, 0, 0, 0, 0, 0, 0, 0, 0, 0, 0, 0, 0, 0, 0, 0, 0, 0, 0, 0, 0, 0, 0, 0, 0, 0, 0, 0]]\n"
          ],
          "name": "stdout"
        }
      ]
    },
    {
      "cell_type": "code",
      "metadata": {
        "colab": {
          "base_uri": "https://localhost:8080/"
        },
        "id": "nLiESyxrPBkA",
        "outputId": "25c708f4-5489-4669-9a37-62984a3bdf13"
      },
      "source": [
        "print(len(embedded_arr))"
      ],
      "execution_count": 24,
      "outputs": [
        {
          "output_type": "stream",
          "text": [
            "95479\n"
          ],
          "name": "stdout"
        }
      ]
    },
    {
      "cell_type": "code",
      "metadata": {
        "colab": {
          "base_uri": "https://localhost:8080/"
        },
        "id": "PMHhFeYaPOqy",
        "outputId": "cf4836cb-4165-4800-f25a-cf19ed9a08c7"
      },
      "source": [
        "print(len(embedded_arr[0]))"
      ],
      "execution_count": 26,
      "outputs": [
        {
          "output_type": "stream",
          "text": [
            "20\n"
          ],
          "name": "stdout"
        }
      ]
    },
    {
      "cell_type": "code",
      "metadata": {
        "colab": {
          "base_uri": "https://localhost:8080/"
        },
        "id": "BiiCGp5FUJj9",
        "outputId": "3de73dab-1055-4629-8c1b-c1050d20e4cc"
      },
      "source": [
        "X=np.array(embedded_arr)\n",
        "print(np.shape(X))"
      ],
      "execution_count": 27,
      "outputs": [
        {
          "output_type": "stream",
          "text": [
            "(95479, 20, 50)\n"
          ],
          "name": "stdout"
        }
      ]
    },
    {
      "cell_type": "code",
      "metadata": {
        "colab": {
          "base_uri": "https://localhost:8080/"
        },
        "id": "35L0idDAUZZz",
        "outputId": "22a91780-44b9-45f4-ba7e-b3c8cfd02327"
      },
      "source": [
        "from sklearn.preprocessing import OneHotEncoder\n",
        "onehotencoder = OneHotEncoder()\n",
        "Y = onehotencoder.fit_transform(np.array(df[1]).reshape(-1,1)).toarray()\n",
        "print(np.shape(Y))"
      ],
      "execution_count": 28,
      "outputs": [
        {
          "output_type": "stream",
          "text": [
            "(95479, 2)\n"
          ],
          "name": "stdout"
        }
      ]
    },
    {
      "cell_type": "code",
      "metadata": {
        "id": "kRT-dP8IU_Pw"
      },
      "source": [
        "from sklearn.model_selection import train_test_split\n",
        "X_train, X_test, Y_train, Y_test = train_test_split(X, Y, test_size=0.2, random_state=42)"
      ],
      "execution_count": 29,
      "outputs": []
    },
    {
      "cell_type": "code",
      "metadata": {
        "colab": {
          "base_uri": "https://localhost:8080/"
        },
        "id": "lSkiN8RWWAEI",
        "outputId": "0b154f4f-f708-4de4-a60a-7d561b8972f8"
      },
      "source": [
        "import keras\n",
        "import numpy as np\n",
        "from keras.models import Sequential,Model\n",
        "from keras.layers import Dense,Dropout,LSTM,Input,Bidirectional\n",
        "from sklearn.model_selection import cross_val_score \n",
        "from nltk.tokenize import word_tokenize,sent_tokenize\n",
        "from ast import literal_eval\n",
        "import nltk\n",
        "from keras.layers import *\n",
        "nltk.download('punkt')"
      ],
      "execution_count": 30,
      "outputs": [
        {
          "output_type": "stream",
          "text": [
            "[nltk_data] Downloading package punkt to /root/nltk_data...\n",
            "[nltk_data]   Unzipping tokenizers/punkt.zip.\n"
          ],
          "name": "stdout"
        },
        {
          "output_type": "execute_result",
          "data": {
            "text/plain": [
              "True"
            ]
          },
          "metadata": {
            "tags": []
          },
          "execution_count": 30
        }
      ]
    },
    {
      "cell_type": "code",
      "metadata": {
        "id": "gDUBa6wjVC8z"
      },
      "source": [
        "def BiLSTMModel(X,Y,input_size1,input_size2,output_size):\n",
        "  m=Sequential()\n",
        "  m.add(Bidirectional(LSTM(20,input_shape=(input_size1,input_size2))))\n",
        "  m.add(Dropout(0.5))\n",
        "  m.add(Dense(output_size,activation='softmax'))\n",
        "  m.compile('Adam','categorical_crossentropy',['accuracy'])\n",
        "  m.fit(X,Y,epochs=10, batch_size=128)\n",
        "  return m"
      ],
      "execution_count": 31,
      "outputs": []
    },
    {
      "cell_type": "code",
      "metadata": {
        "colab": {
          "base_uri": "https://localhost:8080/"
        },
        "id": "OuTayAX9WLrj",
        "outputId": "9f2df647-18f0-4780-9a2d-c3e3bc868be0"
      },
      "source": [
        "bilstmModel=BiLSTMModel(X_train,Y_train,20,50,2)"
      ],
      "execution_count": 32,
      "outputs": [
        {
          "output_type": "stream",
          "text": [
            "Epoch 1/10\n",
            "597/597 [==============================] - 35s 6ms/step - loss: 0.5625 - accuracy: 0.6962\n",
            "Epoch 2/10\n",
            "597/597 [==============================] - 3s 6ms/step - loss: 0.4410 - accuracy: 0.8053\n",
            "Epoch 3/10\n",
            "597/597 [==============================] - 3s 6ms/step - loss: 0.4379 - accuracy: 0.8063\n",
            "Epoch 4/10\n",
            "597/597 [==============================] - 3s 6ms/step - loss: 0.4261 - accuracy: 0.8129\n",
            "Epoch 5/10\n",
            "597/597 [==============================] - 3s 6ms/step - loss: 0.4171 - accuracy: 0.8157\n",
            "Epoch 6/10\n",
            "597/597 [==============================] - 3s 6ms/step - loss: 0.4117 - accuracy: 0.8202\n",
            "Epoch 7/10\n",
            "597/597 [==============================] - 4s 6ms/step - loss: 0.4052 - accuracy: 0.8240\n",
            "Epoch 8/10\n",
            "597/597 [==============================] - 4s 6ms/step - loss: 0.4022 - accuracy: 0.8238\n",
            "Epoch 9/10\n",
            "597/597 [==============================] - 4s 6ms/step - loss: 0.3960 - accuracy: 0.8262\n",
            "Epoch 10/10\n",
            "597/597 [==============================] - 4s 6ms/step - loss: 0.3931 - accuracy: 0.8274\n"
          ],
          "name": "stdout"
        }
      ]
    },
    {
      "cell_type": "code",
      "metadata": {
        "colab": {
          "base_uri": "https://localhost:8080/"
        },
        "id": "dQ9cUGXcVIin",
        "outputId": "3d4c09d3-4f9d-40ec-e9eb-a92f189054b0"
      },
      "source": [
        "bilstmModel.evaluate(X_test,Y_test)"
      ],
      "execution_count": 33,
      "outputs": [
        {
          "output_type": "stream",
          "text": [
            "597/597 [==============================] - 3s 3ms/step - loss: 0.3779 - accuracy: 0.8338\n"
          ],
          "name": "stdout"
        },
        {
          "output_type": "execute_result",
          "data": {
            "text/plain": [
              "[0.3779146373271942, 0.8338395357131958]"
            ]
          },
          "metadata": {
            "tags": []
          },
          "execution_count": 33
        }
      ]
    },
    {
      "cell_type": "code",
      "metadata": {
        "colab": {
          "base_uri": "https://localhost:8080/"
        },
        "id": "M9cuXWOIXMpj",
        "outputId": "ddefd37d-d90c-449c-850e-b74321ab5079"
      },
      "source": [
        "Y_Pred=bilstmModel.predict(X_test)\n",
        "print(Y_Pred[0])"
      ],
      "execution_count": 34,
      "outputs": [
        {
          "output_type": "stream",
          "text": [
            "[0.06399713 0.93600285]\n"
          ],
          "name": "stdout"
        }
      ]
    },
    {
      "cell_type": "code",
      "metadata": {
        "colab": {
          "base_uri": "https://localhost:8080/"
        },
        "id": "WtPvlYI2XSC7",
        "outputId": "2151a911-112e-4294-ec37-03fd9a94f31e"
      },
      "source": [
        "round_preds = np.around(Y_Pred)\n",
        "print(round_preds[0])"
      ],
      "execution_count": 35,
      "outputs": [
        {
          "output_type": "stream",
          "text": [
            "[0. 1.]\n"
          ],
          "name": "stdout"
        }
      ]
    },
    {
      "cell_type": "code",
      "metadata": {
        "colab": {
          "base_uri": "https://localhost:8080/"
        },
        "id": "UyapgrPxXeMi",
        "outputId": "fce87843-b4db-4a40-b6e4-a5ff0b1ec967"
      },
      "source": [
        "class_preds = np.argmax(round_preds, axis=-1)\n",
        "print(class_preds[:10])"
      ],
      "execution_count": 37,
      "outputs": [
        {
          "output_type": "stream",
          "text": [
            "[1 0 0 0 0 0 1 0 0 0]\n"
          ],
          "name": "stdout"
        }
      ]
    },
    {
      "cell_type": "code",
      "metadata": {
        "colab": {
          "base_uri": "https://localhost:8080/"
        },
        "id": "Y_-322fSX7oo",
        "outputId": "1444340a-ffa1-4f30-bcd4-979c4b1913b9"
      },
      "source": [
        "Y_test = np.argmax(Y_test, axis=-1)\n",
        "print(Y_test[:10])"
      ],
      "execution_count": 40,
      "outputs": [
        {
          "output_type": "stream",
          "text": [
            "[1 0 0 0 1 0 1 0 1 0]\n"
          ],
          "name": "stdout"
        }
      ]
    },
    {
      "cell_type": "code",
      "metadata": {
        "colab": {
          "base_uri": "https://localhost:8080/"
        },
        "id": "wcPl6vBBXSHX",
        "outputId": "c722a472-5a6a-4222-c929-c450f5d61f10"
      },
      "source": [
        "from sklearn.metrics import confusion_matrix\n",
        "cf=confusion_matrix(Y_test,class_preds)\n",
        "print(cf)"
      ],
      "execution_count": 41,
      "outputs": [
        {
          "output_type": "stream",
          "text": [
            "[[8917 1849]\n",
            " [1324 7006]]\n"
          ],
          "name": "stdout"
        }
      ]
    },
    {
      "cell_type": "code",
      "metadata": {
        "colab": {
          "base_uri": "https://localhost:8080/",
          "height": 282
        },
        "id": "M-wE1TcrYC7p",
        "outputId": "198179fd-c305-4881-b763-0f708e42ab7a"
      },
      "source": [
        "import seaborn as sns\n",
        "sns.heatmap(cf, annot=True,cmap='Blues',fmt=\"d\")"
      ],
      "execution_count": 42,
      "outputs": [
        {
          "output_type": "execute_result",
          "data": {
            "text/plain": [
              "<matplotlib.axes._subplots.AxesSubplot at 0x7fd90ca06f50>"
            ]
          },
          "metadata": {
            "tags": []
          },
          "execution_count": 42
        },
        {
          "output_type": "display_data",
          "data": {
            "image/png": "[encoded data removed]",
            "text/plain": [
              "<Figure size 432x288 with 2 Axes>"
            ]
          },
          "metadata": {
            "tags": [],
            "needs_background": "light"
          }
        }
      ]
    },
    {
      "cell_type": "code",
      "metadata": {
        "colab": {
          "base_uri": "https://localhost:8080/"
        },
        "id": "4b7bwt5BYGZB",
        "outputId": "f35ad04e-a8ca-4b53-f035-eeb8c73fb2c1"
      },
      "source": [
        "from sklearn.metrics import accuracy_score\n",
        "accuracy_score(Y_test,class_preds)"
      ],
      "execution_count": 43,
      "outputs": [
        {
          "output_type": "execute_result",
          "data": {
            "text/plain": [
              "0.833839547549225"
            ]
          },
          "metadata": {
            "tags": []
          },
          "execution_count": 43
        }
      ]
    }
  ]
}